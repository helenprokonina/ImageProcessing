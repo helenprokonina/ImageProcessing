{
 "cells": [
  {
   "cell_type": "code",
   "execution_count": 1,
   "metadata": {
    "collapsed": true,
    "pycharm": {
     "name": "#%%\n"
    }
   },
   "outputs": [],
   "source": [
    "import numpy as np\n",
    "import cv2\n",
    "import glob\n",
    "import os"
   ]
  },
  {
   "cell_type": "code",
   "execution_count": 147,
   "outputs": [],
   "source": [
    "chess_path = \"chess\""
   ],
   "metadata": {
    "collapsed": false,
    "pycharm": {
     "name": "#%%\n"
    }
   }
  },
  {
   "cell_type": "code",
   "execution_count": 148,
   "outputs": [],
   "source": [
    "# termination criteria\n",
    "criteria = (cv2.TERM_CRITERIA_EPS + cv2.TERM_CRITERIA_MAX_ITER, 30, 0.001)\n",
    "# prepare object points, like (0,0,0), (1,0,0), (2,0,0) ....,(6,5,0)\n",
    "objp = np.zeros((7*7,3), np.float32)\n",
    "objp[:,:2] = np.mgrid[0:7,0:7].T.reshape(-1,2)\n",
    "\n",
    "# Arrays to store object points and image points from all the images.\n",
    "objpoints = [] # 3d point in real world space\n",
    "imgpoints = [] # 2d points in image plane.\n",
    "\n",
    "images = glob.glob(os.path.join(chess_path, '*.jpg'))\n",
    "for fname in images:\n",
    "    img = cv2.imread(fname)\n",
    "    gray = cv2.cvtColor(img, cv2.COLOR_BGR2GRAY)\n",
    "    # Find the chess board corners\n",
    "    # here I used findChessboardCornersSBWithMeta function, it performs better with my images\n",
    "    ret, corners, meta = cv2.findChessboardCornersSBWithMeta(gray, (7,7), flags=cv2.CALIB_CB_LARGER+ cv2.CALIB_CB_NORMALIZE_IMAGE)\n",
    "    # If found, add object points, image points (after refining them)\n",
    "    if ret == True:\n",
    "        objpoints.append(objp)\n",
    "        #increaqse accuracy of found corners\n",
    "        corners2=cv2.cornerSubPix(gray,corners, (11,11), (-1,-1), criteria)\n",
    "        imgpoints.append(corners)\n",
    "        # Draw and display the corners\n",
    "        cv2.drawChessboardCorners(img, (7,7), corners2, ret)\n",
    "        cv2.imshow('img', img)\n",
    "        cv2.waitKey(0)\n",
    "cv2.destroyAllWindows()"
   ],
   "metadata": {
    "collapsed": false,
    "pycharm": {
     "name": "#%%\n"
    }
   }
  },
  {
   "cell_type": "markdown",
   "source": [
    "### Calibration"
   ],
   "metadata": {
    "collapsed": false,
    "pycharm": {
     "name": "#%% md\n"
    }
   }
  },
  {
   "cell_type": "code",
   "execution_count": 149,
   "outputs": [
    {
     "name": "stdout",
     "output_type": "stream",
     "text": [
      "Camera Calibrated:  2.526804284145464\n",
      "\n",
      "Camera Matrix:\n",
      " [[280.89121204   0.         320.72547099]\n",
      " [  0.         267.29195368 213.2422601 ]\n",
      " [  0.           0.           1.        ]]\n",
      "\n",
      "Distortion Parameters:\n",
      " [[-0.1992655   0.10928112  0.02518497 -0.0067436  -0.0350769 ]]\n",
      "\n",
      "Rotation Vectors:\n",
      " (array([[-0.14401081],\n",
      "       [-0.05004611],\n",
      "       [-0.0090575 ]]), array([[-0.14286949],\n",
      "       [ 0.15585857],\n",
      "       [-0.36099374]]), array([[-0.13971267],\n",
      "       [ 0.21817619],\n",
      "       [ 0.04018194]]), array([[ 0.00479278],\n",
      "       [-0.26894791],\n",
      "       [-0.67521536]]), array([[-0.20696361],\n",
      "       [ 0.24458317],\n",
      "       [ 0.4167562 ]]), array([[-0.76307894],\n",
      "       [ 0.19723718],\n",
      "       [ 0.58027485]]), array([[-0.56155612],\n",
      "       [-0.07038868],\n",
      "       [ 0.0524318 ]]), array([[-0.04428237],\n",
      "       [ 0.2828991 ],\n",
      "       [-0.00638895]]), array([[-0.6130443 ],\n",
      "       [-0.31266662],\n",
      "       [-0.65226509]]), array([[-0.56960749],\n",
      "       [-0.15899887],\n",
      "       [-0.4711167 ]]), array([[-0.07621002],\n",
      "       [-0.19024162],\n",
      "       [-0.00132813]]), array([[-0.75224486],\n",
      "       [-0.17159033],\n",
      "       [-0.06151086]]))\n",
      "\n",
      "Translation Vectors:\n",
      " (array([[-8.05800112],\n",
      "       [ 0.50012236],\n",
      "       [17.94586923]]), array([[-8.83884374],\n",
      "       [-4.5394186 ],\n",
      "       [19.27424782]]), array([[ 3.26738162],\n",
      "       [-3.47846298],\n",
      "       [19.59101982]]), array([[-14.75563688],\n",
      "       [ -2.00614988],\n",
      "       [ 18.61189603]]), array([[ 4.6042646 ],\n",
      "       [ 2.53785234],\n",
      "       [18.33526708]]), array([[ 0.21777215],\n",
      "       [ 1.39485709],\n",
      "       [18.00717475]]), array([[10.40624521],\n",
      "       [ 8.58576043],\n",
      "       [22.23808855]]), array([[ 5.41910088],\n",
      "       [-4.8912286 ],\n",
      "       [19.38268159]]), array([[ 3.49514369],\n",
      "       [ 8.47941985],\n",
      "       [23.96071231]]), array([[-4.67316037],\n",
      "       [-6.01416422],\n",
      "       [23.6227725 ]]), array([[-14.67678634],\n",
      "       [  0.32965429],\n",
      "       [ 18.3842579 ]]), array([[-10.80928148],\n",
      "       [  1.94296917],\n",
      "       [ 16.00781141]]))\n"
     ]
    }
   ],
   "source": [
    "#return camera matrix, distortion parameters, rotation and translation vectors\n",
    "ret, cameraMatrix, dist, rvecs, tvecs = cv2.calibrateCamera(objpoints, imgpoints, gray.shape[::-1], None, None)\n",
    "\n",
    "print(\"Camera Calibrated: \", ret)\n",
    "print(\"\\nCamera Matrix:\\n\", cameraMatrix)\n",
    "print(\"\\nDistortion Parameters:\\n\", dist)\n",
    "print(\"\\nRotation Vectors:\\n\", rvecs)\n",
    "print(\"\\nTranslation Vectors:\\n\", tvecs)"
   ],
   "metadata": {
    "collapsed": false,
    "pycharm": {
     "name": "#%%\n"
    }
   }
  },
  {
   "cell_type": "markdown",
   "source": [
    "### Undistortion\n",
    "\n",
    "I have changed **findChessboardCorners** function to **cv2.findChessboardCornersSBWithMeta** and my corner detector started to find corners in all images. After undistortion image looks better in general (just table looks strange)."
   ],
   "metadata": {
    "collapsed": false,
    "pycharm": {
     "name": "#%% md\n"
    }
   }
  },
  {
   "cell_type": "code",
   "execution_count": 150,
   "outputs": [],
   "source": [
    "#take new image\n",
    "img = cv2.imread('chess/chess7.jpg')\n",
    "h,  w = img.shape[:2]\n",
    "newCameraMatrix, roi = cv2.getOptimalNewCameraMatrix(cameraMatrix, dist, (w,h), 1, (w,h))"
   ],
   "metadata": {
    "collapsed": false,
    "pycharm": {
     "name": "#%%\n"
    }
   }
  },
  {
   "cell_type": "code",
   "execution_count": 151,
   "outputs": [
    {
     "data": {
      "text/plain": "True"
     },
     "execution_count": 151,
     "metadata": {},
     "output_type": "execute_result"
    }
   ],
   "source": [
    "# undistort\n",
    "dst = cv2.undistort(img, cameraMatrix, dist, None, newCameraMatrix)\n",
    "# crop the image\n",
    "x, y, w, h = roi\n",
    "dst = dst[y:y+h, x:x+w]\n",
    "cv2.imwrite('calibrated/calibresult.png', dst)"
   ],
   "metadata": {
    "collapsed": false,
    "pycharm": {
     "name": "#%%\n"
    }
   }
  },
  {
   "cell_type": "markdown",
   "source": [
    "### Re-Projection Error"
   ],
   "metadata": {
    "collapsed": false,
    "pycharm": {
     "name": "#%% md\n"
    }
   }
  },
  {
   "cell_type": "code",
   "execution_count": 152,
   "outputs": [
    {
     "name": "stdout",
     "output_type": "stream",
     "text": [
      "total error: 0.25977566493690624\n"
     ]
    }
   ],
   "source": [
    "mean_error = 0\n",
    "for i in range(len(objpoints)):\n",
    "    imgpoints2, _ = cv2.projectPoints(objpoints[i], rvecs[i], tvecs[i], cameraMatrix, dist)\n",
    "    error = cv2.norm(imgpoints[i], imgpoints2, cv2.NORM_L2)/len(imgpoints2)\n",
    "    mean_error += error\n",
    "print( \"total error: {}\".format(mean_error/len(objpoints)) )"
   ],
   "metadata": {
    "collapsed": false,
    "pycharm": {
     "name": "#%%\n"
    }
   }
  },
  {
   "cell_type": "markdown",
   "source": [
    "### 3D rendering using calibrated camera"
   ],
   "metadata": {
    "collapsed": false,
    "pycharm": {
     "name": "#%% md\n"
    }
   }
  },
  {
   "cell_type": "markdown",
   "source": [
    "Function which takes the corners in the chessboard (obtained using cv.findChessboardCorners()) and axis points to draw a 3D axis."
   ],
   "metadata": {
    "collapsed": false,
    "pycharm": {
     "name": "#%% md\n"
    }
   }
  },
  {
   "cell_type": "code",
   "execution_count": 153,
   "outputs": [],
   "source": [
    "def draw(img, corners, imgpts):\n",
    "    #convert coordinates to int\n",
    "    corners = np.int32(corners)\n",
    "    #take first corner\n",
    "    corner = tuple(corners[0].ravel())\n",
    "    imgpts = np.int32(imgpts)\n",
    "\n",
    "    img = cv2.line(img, corner, tuple(imgpts[0].ravel()), (255,0,0), 5)\n",
    "    img = cv2.line(img, corner, tuple(imgpts[1].ravel()), (0,255,0), 5)\n",
    "    img = cv2.line(img, corner, tuple(imgpts[2].ravel()), (0,0,255), 5)\n",
    "    return img"
   ],
   "metadata": {
    "collapsed": false,
    "pycharm": {
     "name": "#%%\n"
    }
   }
  },
  {
   "cell_type": "code",
   "execution_count": 154,
   "outputs": [],
   "source": [
    "criteria = (cv2.TERM_CRITERIA_EPS + cv2.TERM_CRITERIA_MAX_ITER, 30, 0.001)\n",
    "objp = np.zeros((7*7,3), np.float32)\n",
    "objp[:,:2] = np.mgrid[0:7,0:7].T.reshape(-1,2)\n",
    "axis = np.float32([[3,0,0], [0,3,0], [0,0,-3]]).reshape(-1,3)"
   ],
   "metadata": {
    "collapsed": false,
    "pycharm": {
     "name": "#%%\n"
    }
   }
  },
  {
   "cell_type": "code",
   "execution_count": 155,
   "outputs": [],
   "source": [
    "for fname in glob.glob(os.path.join(chess_path, '*.jpg')):\n",
    "    img = cv2.imread(fname)\n",
    "    gray = cv2.cvtColor(img,cv2.COLOR_BGR2GRAY)\n",
    "    ret, corners, meta = cv2.findChessboardCornersSBWithMeta(gray, (7,7), flags=cv2.CALIB_CB_LARGER+ cv2.CALIB_CB_NORMALIZE_IMAGE)\n",
    "    if ret == True:\n",
    "        corners2 = cv2.cornerSubPix(gray,corners,(11,11),(-1,-1),criteria)\n",
    "        # Find the rotation and translation vectors.\n",
    "        ret, rvecs, tvecs = cv2.solvePnP(objp, corners2, cameraMatrix, dist)\n",
    "        # project 3D points to image plane\n",
    "        imgpts, jac = cv2.projectPoints(axis, rvecs, tvecs, cameraMatrix, dist)\n",
    "        # draw axes from the first found cormer to projected points in 3D\n",
    "        img = draw(img, corners2, imgpts)\n",
    "        cv2.imshow('img',img)\n",
    "        k = cv2.waitKey(0)\n",
    "        fname = fname.split(\"\\\\\")[1].split(\".\")[0]\n",
    "        cv2.imwrite(\"calibrated/\"+fname+'_3d.png', img)\n",
    "cv2.destroyAllWindows()"
   ],
   "metadata": {
    "collapsed": false,
    "pycharm": {
     "name": "#%%\n"
    }
   }
  },
  {
   "cell_type": "code",
   "execution_count": null,
   "outputs": [],
   "source": [],
   "metadata": {
    "collapsed": false,
    "pycharm": {
     "name": "#%%\n"
    }
   }
  }
 ],
 "metadata": {
  "kernelspec": {
   "display_name": "Python 3",
   "language": "python",
   "name": "python3"
  },
  "language_info": {
   "codemirror_mode": {
    "name": "ipython",
    "version": 2
   },
   "file_extension": ".py",
   "mimetype": "text/x-python",
   "name": "python",
   "nbconvert_exporter": "python",
   "pygments_lexer": "ipython2",
   "version": "2.7.6"
  }
 },
 "nbformat": 4,
 "nbformat_minor": 0
}